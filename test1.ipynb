{
 "cells": [
  {
   "cell_type": "code",
   "execution_count": 1,
   "metadata": {},
   "outputs": [],
   "source": [
    "import random\n",
    "import nltk\n",
    "from nltk.util import ngrams\n",
    "from nltk.lm import Vocabulary\n",
    "from nltk.lm.models import Laplace\n",
    "from nltk.tokenize import word_tokenize\n",
    "import numpy as np\n",
    "\n",
    "# Read the text corpus\n",
    "with open('khmer_food.txt', 'r', encoding='utf-8') as file:\n",
    "    corpus = file.read()\n",
    "\n",
    "# Split the corpus into sentences\n",
    "sentences = nltk.sent_tokenize(corpus)"
   ]
  },
  {
   "cell_type": "code",
   "execution_count": 2,
   "metadata": {},
   "outputs": [
    {
     "data": {
      "text/plain": [
       "['Bai domram is a rice dish served with multiple side dishes meant to be eaten with it.',\n",
       " 'It is prepared by allowing the cooked rice to cool overnight and absorb the morning dew.',\n",
       " 'This process infuses the rice with a subtle essence.',\n",
       " 'To enhance the aroma, jasmine flowers are added to the dish in the morning.',\n",
       " 'During the dry season, bai domram is appreciated for its cooling effect.',\n",
       " 'Amok is a popular Cambodian dish that is typically made with fish.',\n",
       " 'The fish is marinated in a mixture of spices and coconut milk, then steamed in banana leaves.',\n",
       " 'The result is a fragrant, flavorful dish that can be enjoyed with rice or noodles.',\n",
       " 'While fish is the traditional ingredient for amok, chicken and vegetarian versions have become increasingly popular.',\n",
       " 'No matter what type of amok you try, it is sure to be a delicious experience.',\n",
       " 'Nataing is a dip made with minced pork, coconut cream, and peanuts.',\n",
       " 'It is traditionally enjoyed alongside crispy rice cakes.',\n",
       " 'A variation of nataing favored by the Khmer royalty uses chicken meat that has been finely strained before cooking.',\n",
       " 'An even more extravagant version incorporates lobster as the main ingredient.',\n",
       " 'Muk mee is a Khmer-style salad made of fried rice vermicelli, from which a wide array of toppings is added.']"
      ]
     },
     "execution_count": 2,
     "metadata": {},
     "output_type": "execute_result"
    }
   ],
   "source": [
    "sentences"
   ]
  },
  {
   "cell_type": "code",
   "execution_count": 3,
   "metadata": {},
   "outputs": [],
   "source": [
    "# Split the corpus into training, validation, and testing sets\n",
    "train_size = int(0.7 * len(sentences))\n",
    "val_size = int(0.1 * len(sentences))\n",
    "train_set = sentences[:train_size]\n",
    "val_set = sentences[train_size:train_size+val_size]\n",
    "test_set = sentences[train_size+val_size:]\n"
   ]
  },
  {
   "cell_type": "code",
   "execution_count": 35,
   "metadata": {},
   "outputs": [
    {
     "data": {
      "text/plain": [
       "['It is traditionally enjoyed alongside crispy rice cakes.',\n",
       " 'A variation of nataing favored by the Khmer royalty uses chicken meat that has been finely strained before cooking.',\n",
       " 'An even more extravagant version incorporates lobster as the main ingredient.',\n",
       " 'Muk mee is a Khmer-style salad made of fried rice vermicelli, from which a wide array of toppings is added.']"
      ]
     },
     "execution_count": 35,
     "metadata": {},
     "output_type": "execute_result"
    }
   ],
   "source": [
    "test_set"
   ]
  },
  {
   "cell_type": "code",
   "execution_count": 4,
   "metadata": {},
   "outputs": [],
   "source": [
    "from collections import defaultdict\n",
    "def load_vocab(dataset):\n",
    "    '''\n",
    "    parameters:\n",
    "    filename (string): datafile\n",
    "    \n",
    "    Returns:\n",
    "    data (list of lists): each list is a sentence of the text \n",
    "    vocab (dictionary): {word: no of times it appears in the text}\n",
    "    '''\n",
    " \n",
    "    data = []\n",
    "    vocab = defaultdict(lambda:0)\n",
    "    for line in dataset:\n",
    "        sentence = line.split()\n",
    "        data.append(sentence)\n",
    "        for word in sentence:\n",
    "            vocab[word] += 1\n",
    "    return data, vocab"
   ]
  },
  {
   "cell_type": "code",
   "execution_count": 5,
   "metadata": {},
   "outputs": [
    {
     "name": "stdout",
     "output_type": "stream",
     "text": [
      "load training set..\n",
      "\n",
      "\n",
      "['Bai', 'domram', 'is', 'a', 'rice', 'dish', 'served', 'with', 'multiple', 'side', 'dishes', 'meant', 'to', 'be', 'eaten', 'with', 'it.']\n",
      "\n",
      "\n",
      "how : 9\n",
      "load validation set\n"
     ]
    }
   ],
   "source": [
    "print(\"load training set..\")\n",
    "print(\"\\n\")\n",
    "train_data,vocab = load_vocab(train_set)\n",
    "print(train_data[0])\n",
    "print(\"\\n\")\n",
    "print(\"how :\",vocab['is'])\n",
    "print(\"load validation set\")\n",
    "valid_data, _ = load_vocab(val_set)"
   ]
  },
  {
   "cell_type": "code",
   "execution_count": 6,
   "metadata": {},
   "outputs": [],
   "source": [
    "def remove_rare_words(data, vocab, mincount = 1):\n",
    "    '''\n",
    "    Parameters:\n",
    "    data (list of lists): each list is a sentence of the text \n",
    "    vocab (dictionary): {word: no of times it appears in the text}\n",
    "    mincount(int): the minimum count \n",
    "    \n",
    "    Returns: \n",
    "    data_with_unk(list of lists): data after replacing rare words with <unk> token\n",
    "    '''\n",
    "    # replace words in data that are not in the vocab \n",
    "    # or have a count that is below mincount\n",
    "    data_with_unk = []\n",
    "    ## FILL CODE\n",
    "    for sentence in data:\n",
    "        sentence_with_unk = []\n",
    "        for word in sentence:\n",
    "            if word in vocab and vocab[word]>mincount:\n",
    "                sentence_with_unk.append(word)\n",
    "            else:\n",
    "                sentence_with_unk.append('<unk>')\n",
    "        data_with_unk.append(sentence_with_unk)\n",
    "    \n",
    "    return data_with_unk"
   ]
  },
  {
   "cell_type": "code",
   "execution_count": 7,
   "metadata": {},
   "outputs": [
    {
     "name": "stdout",
     "output_type": "stream",
     "text": [
      "remove rare words\n"
     ]
    }
   ],
   "source": [
    "print(\"remove rare words\")\n",
    "train_data = remove_rare_words(train_data, vocab, mincount = 1)\n",
    "valid_data = remove_rare_words(valid_data, vocab, mincount = 1)"
   ]
  },
  {
   "cell_type": "code",
   "execution_count": 8,
   "metadata": {},
   "outputs": [
    {
     "data": {
      "text/plain": [
       "['<unk>',\n",
       " 'domram',\n",
       " 'is',\n",
       " 'a',\n",
       " 'rice',\n",
       " 'dish',\n",
       " '<unk>',\n",
       " 'with',\n",
       " '<unk>',\n",
       " '<unk>',\n",
       " '<unk>',\n",
       " '<unk>',\n",
       " 'to',\n",
       " 'be',\n",
       " '<unk>',\n",
       " 'with',\n",
       " '<unk>']"
      ]
     },
     "execution_count": 8,
     "metadata": {},
     "output_type": "execute_result"
    }
   ],
   "source": [
    "train_data[0]"
   ]
  },
  {
   "cell_type": "code",
   "execution_count": 9,
   "metadata": {},
   "outputs": [],
   "source": [
    "def build_ngram(data, n):\n",
    "    '''\n",
    "    Parameters:\n",
    "    data (list of lists): each list is a sentence of the text \n",
    "    n (int): size of the n-gram\n",
    "    \n",
    "    Returns:\n",
    "    proba (dictionary of dictionary)\n",
    "    {\n",
    "        context: {word:probability of this word given context}\n",
    "    }\n",
    "    \n",
    "    \n",
    "    '''\n",
    "    total_number_words = 0\n",
    "    counts = defaultdict(lambda: defaultdict(lambda: 0.0))\n",
    "\n",
    "    for sentence in data:\n",
    "        sentence = tuple(sentence)\n",
    "        ## FILL CODE\n",
    "        # dict can be indexed by tuples\n",
    "        # store in the same dict all the ngrams\n",
    "        # by using the context as a key and the word as a value\n",
    "        for i in range(len(sentence)):\n",
    "            total_number_words +=1\n",
    "            for k in range(n):\n",
    "                if i-k < 0:\n",
    "                    break\n",
    "                counts[sentence[i-k:i]][sentence[i]] +=1 \n",
    "                           \n",
    "\n",
    "    proba  = defaultdict(lambda: defaultdict(lambda: 0.0))\n",
    "    # Build the probabilities from the counts\n",
    "    # Be careful with how you normalize!\n",
    "\n",
    "    for context in counts.keys():\n",
    "    ## FILL CODE\n",
    "        denom =0\n",
    "        for w in counts[context].keys():\n",
    "            denom += counts[context][w]\n",
    "        for w in counts[context].keys():\n",
    "            proba[context][w] = counts[context][w]/denom \n",
    "    \n",
    "    return proba"
   ]
  },
  {
   "cell_type": "code",
   "execution_count": 10,
   "metadata": {},
   "outputs": [
    {
     "name": "stdout",
     "output_type": "stream",
     "text": [
      "build ngram model with n =  4\n"
     ]
    }
   ],
   "source": [
    "# RUN TO BUILD NGRAM MODEL\n",
    "\n",
    "n = 4\n",
    "print(\"build ngram model with n = \", n)\n",
    "model = build_ngram(train_data, n)"
   ]
  },
  {
   "cell_type": "code",
   "execution_count": 11,
   "metadata": {},
   "outputs": [],
   "source": [
    "def get_prob(model, context, w):\n",
    "    '''\n",
    "    Parameters: \n",
    "    model (dictionary of dictionary)\n",
    "    {\n",
    "        context: {word:probability of this word given context}\n",
    "    } \n",
    "    context (list of strings): a sentence\n",
    "    w(string): the word we need to find it's probability given the context\n",
    "    \n",
    "    Retunrs:\n",
    "    prob(float): probability of this word given the context \n",
    "    '''\n",
    "\n",
    "    # code a recursive function over \n",
    "    # smaller and smaller context\n",
    "    # to compute the backoff model\n",
    "    \n",
    "    ## FILL CODE\n",
    "\n",
    "    if context in model and w in model[context]:\n",
    "        return model[context][w]\n",
    "    else:\n",
    "        return 0.4*get_prob(model, context[1:], w)"
   ]
  },
  {
   "cell_type": "code",
   "execution_count": 12,
   "metadata": {},
   "outputs": [],
   "source": [
    "import math\n",
    "def perplexity(model, data, n):\n",
    "    '''\n",
    "    Parameters: \n",
    "    model (dictionary of dictionary)\n",
    "    {\n",
    "        context: {word:probability of this word given context}\n",
    "    } \n",
    "    data (list of lists): each list is a sentence of the text\n",
    "    n(int): size of the n-gram\n",
    "    \n",
    "    Retunrs:\n",
    "    prep(float): the preplexity of the model \n",
    "    '''\n",
    "    ## FILL CODE\n",
    "    perp, T = 0.0, 0\n",
    "    for sentence in data:\n",
    "        sentence = tuple(sentence)\n",
    "        for i in range(1, len(sentence)):\n",
    "            nc = min(n-1, i)\n",
    "            context = sentence[i-nc:i]\n",
    "            perp += -math.log(get_prob(model, context, sentence[i]))\n",
    "            T += 1\n",
    "    perp = math.exp(perp/T)\n",
    "    return perp"
   ]
  },
  {
   "cell_type": "code",
   "execution_count": 13,
   "metadata": {},
   "outputs": [
    {
     "name": "stdout",
     "output_type": "stream",
     "text": [
      "The perplexity is 2.987014940593381\n"
     ]
    }
   ],
   "source": [
    "# COMPUTE PERPLEXITY ON VALIDATION SET\n",
    "\n",
    "print(\"The perplexity is\", perplexity(model, valid_data, n=3))"
   ]
  },
  {
   "cell_type": "code",
   "execution_count": 14,
   "metadata": {},
   "outputs": [],
   "source": [
    "def get_proba_distrib(model, context):\n",
    "    ## need to get the the words after the context and their probability of appearance\n",
    "    ## after this context \n",
    "    '''\n",
    "    Parameters: \n",
    "    model (dictionary of dictionary)\n",
    "    {\n",
    "        context: {word:probability of this word given context}\n",
    "    }\n",
    "    context (list of strings): the sentence we need to find the words after it and \n",
    "    thier probabilites\n",
    "    \n",
    "    Retunrs:\n",
    "    words_and_probs(dic): {word: probability of word given context}\n",
    "    \n",
    "    '''\n",
    "    # code a recursive function over context\n",
    "    # to find the longest available ngram\n",
    "    \n",
    "    ## FILL CODE\n",
    "    \n",
    "    if context in model:\n",
    "        return model[context]\n",
    "    else:\n",
    "        return get_proba_distrib(model, context[1:])"
   ]
  },
  {
   "cell_type": "code",
   "execution_count": 49,
   "metadata": {},
   "outputs": [],
   "source": [
    "def generate(model):\n",
    "    '''\n",
    "    Parameters: \n",
    "    model (dictionary of dictionary)\n",
    "    {\n",
    "        context: {word:probability of this word given context}\n",
    "    }\n",
    "    \n",
    "    Retunrs:\n",
    "    sentence (list of strings): a sentence sampled according to the language model. \n",
    "    \n",
    "\n",
    "    '''\n",
    "    # generate a sentence. A sentence starts with a <s> and ends with a </s>\n",
    "    # Possiblly a use function is:\n",
    "    # np.random.choice(x, 1, p = y)\n",
    "\n",
    "    # where x is a list of things to sample from\n",
    "    # and y is a list of probability (of the same length as x)\n",
    "    sentence = [\"It\"]\n",
    "    while sentence[-1] != \"rice\" and len(sentence)<10:\n",
    "        ## FILL CODE\n",
    "        proba = get_proba_distrib(model, tuple(sentence))\n",
    "        w = np.random.choice((list(proba.keys())), 1, p = list(proba.values()))\n",
    "        sentence.append(w[0])\n",
    "    return sentence"
   ]
  },
  {
   "cell_type": "code",
   "execution_count": 50,
   "metadata": {},
   "outputs": [],
   "source": [
    "test_data,test_vocab = load_vocab(test_set)"
   ]
  },
  {
   "cell_type": "code",
   "execution_count": 51,
   "metadata": {},
   "outputs": [
    {
     "data": {
      "text/plain": [
       "['It',\n",
       " 'is',\n",
       " 'traditionally',\n",
       " 'enjoyed',\n",
       " 'alongside',\n",
       " 'crispy',\n",
       " 'rice',\n",
       " 'cakes.']"
      ]
     },
     "execution_count": 51,
     "metadata": {},
     "output_type": "execute_result"
    }
   ],
   "source": [
    "test_data[0]"
   ]
  },
  {
   "cell_type": "code",
   "execution_count": 52,
   "metadata": {},
   "outputs": [],
   "source": [
    "test_data = remove_rare_words(valid_data, test_vocab, mincount = 1)"
   ]
  },
  {
   "cell_type": "code",
   "execution_count": 53,
   "metadata": {},
   "outputs": [
    {
     "name": "stdout",
     "output_type": "stream",
     "text": [
      "Generated sentence:  ['It', 'a', '<unk>', '<unk>', '<unk>', '<unk>', '<unk>', '<unk>', '<unk>', '<unk>']\n"
     ]
    }
   ],
   "source": [
    "# GENERATE A SENTENCE FROM THE MODEL\n",
    "model = build_ngram(test_data, 4)\n",
    "print(\"Generated sentence: \",generate(model))"
   ]
  }
 ],
 "metadata": {
  "kernelspec": {
   "display_name": "Python 3",
   "language": "python",
   "name": "python3"
  },
  "language_info": {
   "codemirror_mode": {
    "name": "ipython",
    "version": 3
   },
   "file_extension": ".py",
   "mimetype": "text/x-python",
   "name": "python",
   "nbconvert_exporter": "python",
   "pygments_lexer": "ipython3",
   "version": "3.12.1"
  }
 },
 "nbformat": 4,
 "nbformat_minor": 2
}
