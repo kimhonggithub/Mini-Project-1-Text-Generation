{
 "cells": [
  {
   "cell_type": "markdown",
   "metadata": {},
   "source": [
    "# Import Library"
   ]
  },
  {
   "cell_type": "code",
   "execution_count": 15,
   "metadata": {},
   "outputs": [],
   "source": [
    "import nltk\n",
    "from nltk.util import ngrams\n",
    "from nltk.tokenize import word_tokenize\n",
    "from collections import defaultdict\n",
    "import string\n",
    "import math\n",
    "import numpy as np"
   ]
  },
  {
   "cell_type": "code",
   "execution_count": 16,
   "metadata": {},
   "outputs": [],
   "source": [
    "with open('khmer_food.txt', 'r', encoding='utf-8') as file:\n",
    "    corpus = file.read()"
   ]
  },
  {
   "cell_type": "code",
   "execution_count": 17,
   "metadata": {},
   "outputs": [],
   "source": [
    "# Separate the text corpus into 3 subsets: training (70%), validation (10%) and testing (20%)\n",
    "def split_corpus(corpus):\n",
    "    total_length = len(corpus)\n",
    "    train_end = int(total_length * 0.7)\n",
    "    val_end = int(total_length * 0.1)\n",
    "    \n",
    "    train_set = corpus[:train_end]\n",
    "    val_set = corpus[train_end:train_end+val_end]\n",
    "    test_set = corpus[train_end+val_end:]\n",
    "    \n",
    "    return train_set, val_set, test_set"
   ]
  },
  {
   "cell_type": "code",
   "execution_count": 18,
   "metadata": {},
   "outputs": [],
   "source": [
    "train_set, val_set, test_set = split_corpus(corpus)"
   ]
  },
  {
   "cell_type": "markdown",
   "metadata": {},
   "source": [
    "## Build 4gram with Backoff method"
   ]
  },
  {
   "cell_type": "code",
   "execution_count": 19,
   "metadata": {},
   "outputs": [],
   "source": [
    "def get_prob(model, context, w):\n",
    "\n",
    "    if context in model and w in model[context]:\n",
    "        return model[context][w]\n",
    "    else:\n",
    "        return 0.4*get_prob(model, context[1:], w)"
   ]
  },
  {
   "cell_type": "code",
   "execution_count": 20,
   "metadata": {},
   "outputs": [],
   "source": [
    "def get_proba_distrib(model, context):\n",
    "    \n",
    "    if context in model:\n",
    "        return model[context]\n",
    "    else:\n",
    "        return get_proba_distrib(model, context[1:])"
   ]
  },
  {
   "cell_type": "code",
   "execution_count": 21,
   "metadata": {},
   "outputs": [],
   "source": [
    "# Tokenization function\n",
    "\n",
    "def tokenize_text(text, vocab_size):\n",
    "    tokens = word_tokenize(text.lower())\n",
    "    tokens = [token for token in tokens if token not in string.punctuation]\n",
    "    unigrams = tokens\n",
    "    bigrams = list(nltk.bigrams(tokens))\n",
    "    return unigrams, bigrams\n"
   ]
  },
  {
   "cell_type": "code",
   "execution_count": 22,
   "metadata": {},
   "outputs": [],
   "source": [
    "# Build n-gram model\n",
    "def build_ngram(data, n):\n",
    "    total_number_words = 0\n",
    "    counts = defaultdict(lambda: defaultdict(lambda: 0.0))\n",
    "\n",
    "    for sentence in data:\n",
    "        for i in range(len(sentence)):\n",
    "            total_number_words += 1\n",
    "            for k in range(n):\n",
    "                if i - k < 0:\n",
    "                    break\n",
    "                counts[sentence[i-k:i]][sentence[i]] += 1\n",
    "\n",
    "    proba = defaultdict(lambda: defaultdict(lambda: 0.0))\n",
    "    for context in counts.keys():\n",
    "        denom = sum(counts[context].values())\n",
    "        for w in counts[context].keys():\n",
    "            proba[context][w] = counts[context][w] / denom\n",
    "\n",
    "    return proba"
   ]
  },
  {
   "cell_type": "code",
   "execution_count": 23,
   "metadata": {},
   "outputs": [],
   "source": [
    "# Generate text\n",
    "def generate(model):\n",
    "    sentence = [\"Khmer\", \"cuisine\", \"combines\"]\n",
    "    while sentence[-1] != \"</s>\" and len(sentence) < 100:\n",
    "        proba = get_proba_distrib(model, tuple(sentence))\n",
    "        w = np.random.choice(list(proba.keys()), 1, p=list(proba.values()))\n",
    "        sentence.append(w[0])\n",
    "    return sentence"
   ]
  },
  {
   "cell_type": "code",
   "execution_count": 24,
   "metadata": {},
   "outputs": [],
   "source": [
    "# Perplexity calculation\n",
    "def perplexity(model, data, n):\n",
    "    perp, T = 0.0, 0\n",
    "    for sentence in data:\n",
    "        for i in range(1, len(sentence)):\n",
    "            nc = min(n-1, i)\n",
    "            context = sentence[i-nc:i]\n",
    "            perp += -math.log(get_prob(model, context, sentence[i]))\n",
    "            T += 1\n",
    "    perp = math.exp(perp/T)\n",
    "    return perp"
   ]
  },
  {
   "cell_type": "code",
   "execution_count": 25,
   "metadata": {},
   "outputs": [
    {
     "name": "stdout",
     "output_type": "stream",
     "text": [
      "Generated sentence: ['Khmer', 'cuisine', 'combines', 'noodles', 'and', 'stir-fried', 'dishes', 'and', 'flavorful', 'with', 'the', 'local', 'ingredients', 'as', 'prawns', 'squids', 'shrimps', 'crabs', 'clams', 'and', 'indian', 'thai', 'cuisine', 'in', 'southern', 'vietnam', 'share', 'some', 'eateries', 'in', 'flavor', 'a', 'crispy', 'texture', 'when', 'available', 'for', 'gawai', 'the', 'hokkien/teochew', 'word', 'pronounced', 'kueh', 'or', 'corporations', 'a', 'name', 'without', 'vegetables', 'like', 'the', 'predominant', 'table', 'sauce', 'for', 'preserved', 'dishes', 'of', 'travel', 'channel', \"'s\", 'elaborate', 'occasion', 'to', 'a', 'fermented', 'stir-fried', 'or', 'glutinous', 'rice', 'noodles', 'and', 'tastes', 'and', 'to', 'saying', '``', 'vegetarian', 'or', 'prawn', 'sauce', 'in', 'that', 'can', 'also', 'used', 'in', 'season', 'is', 'served', 'with', 'ground', 'shrimp', 'are', 'some', 'fundamental', 'tastes', 'sweet', 'dish', 'for']\n",
      "Perplexity: 9.070901165622379\n"
     ]
    }
   ],
   "source": [
    "# Test data\n",
    "vocab_size = 100\n",
    "test_unigrams, test_bigrams = tokenize_text(test_set, vocab_size)\n",
    "\n",
    "# Build n-gram model for bigrams\n",
    "n = 4\n",
    "model = build_ngram(test_bigrams, n)\n",
    "\n",
    "# Generate a sentence\n",
    "print(\"Generated sentence:\", generate(model))\n",
    "\n",
    "# Evaluate perplexity\n",
    "perplexity_score = perplexity(model, test_bigrams, n)\n",
    "print(\"Perplexity:\", perplexity_score)\n"
   ]
  }
 ],
 "metadata": {
  "kernelspec": {
   "display_name": "Python 3",
   "language": "python",
   "name": "python3"
  },
  "language_info": {
   "codemirror_mode": {
    "name": "ipython",
    "version": 3
   },
   "file_extension": ".py",
   "mimetype": "text/x-python",
   "name": "python",
   "nbconvert_exporter": "python",
   "pygments_lexer": "ipython3",
   "version": "3.12.1"
  }
 },
 "nbformat": 4,
 "nbformat_minor": 2
}
